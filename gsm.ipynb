{
 "cells": [
  {
   "cell_type": "raw",
   "metadata": {},
   "source": [
    "import the required libraries"
   ]
  },
  {
   "cell_type": "code",
   "execution_count": 1,
   "metadata": {},
   "outputs": [],
   "source": [
    "from sklearn.metrics import mean_squared_error\n",
    "from sklearn.metrics import r2_score\n",
    "from math import sqrt\n",
    "\n",
    "from sklearn import tree\n",
    "from IPython.display import SVG\n",
    "from graphviz import Source\n",
    "from IPython.display import display\n",
    "\n",
    "from sklearn import linear_model\n",
    "import matplotlib.pyplot as plt\n",
    "import numpy as np\n",
    "\n",
    "import pandas as pd\n"
   ]
  },
  {
   "cell_type": "raw",
   "metadata": {},
   "source": [
    "plotly is used for box plotting "
   ]
  },
  {
   "cell_type": "code",
   "execution_count": 2,
   "metadata": {},
   "outputs": [
    {
     "name": "stderr",
     "output_type": "stream",
     "text": [
      "c:\\users\\home\\appdata\\local\\programs\\python\\python35-32\\lib\\site-packages\\plotly\\tools.py:103: UserWarning:\n",
      "\n",
      "Looks like you don't have 'read-write' permission to your 'home' ('~') directory or to our '~/.plotly' directory. That means plotly's python api can't setup local configuration files. No problem though! You'll just have to sign-in using 'plotly.plotly.sign_in()'. For help with that: 'help(plotly.plotly.sign_in)'.\n",
      "Questions? Visit https://support.plot.ly\n",
      "\n"
     ]
    },
    {
     "data": {
      "text/html": [
       "<script>requirejs.config({paths: { 'plotly': ['https://cdn.plot.ly/plotly-latest.min']},});if(!window.Plotly) {{require(['plotly'],function(plotly) {window.Plotly=plotly;});}}</script>"
      ],
      "text/vnd.plotly.v1+html": [
       "<script>requirejs.config({paths: { 'plotly': ['https://cdn.plot.ly/plotly-latest.min']},});if(!window.Plotly) {{require(['plotly'],function(plotly) {window.Plotly=plotly;});}}</script>"
      ]
     },
     "metadata": {},
     "output_type": "display_data"
    }
   ],
   "source": [
    "import plotly\n",
    "import plotly.graph_objs as go\n",
    "import plotly.figure_factory as ff\n",
    "\n",
    "plotly.offline.init_notebook_mode(connected=True)\n",
    "\n",
    "global weights1\n",
    "global weights2"
   ]
  },
  {
   "cell_type": "raw",
   "metadata": {},
   "source": [
    "function to find the best surrogate model by comparing R2 scores of all the surrogate models, namely: Decision Tree, Linear Regression and Logistic regression"
   ]
  },
  {
   "cell_type": "code",
   "execution_count": null,
   "metadata": {},
   "outputs": [],
   "source": [
    "def find_surrogate_model(Train_features,BlackBoxModel,mode):\n",
    "    R2_Scores = [] #list to store R2 scores of different surrogate models and find maximum\n",
    "    \n",
    "    BlackBoxPred = BlackBoxModel.predict(Train_features) #Prediction of BlackBoxModel\n",
    "    \n",
    "    #first surrogate model is Decsiosn Tree\n",
    "    if(mode == 'classification'):\n",
    "        Model_DTree = tree.DecisionTreeClassifier() #decision tree classifier,if mode is classification\n",
    "        Model_DTree.fit(Train_features,BlackBoxPred)\n",
    "    \n",
    "        R2_Scores.append(r2_score(BlackBoxPred,Model_DTree.predict(Train_features)))\n",
    "    elif(mode == 'regression'):\n",
    "        Model_DTree = tree.DecisionTreeRegressor() #decision tree regressor, if mode is regression\n",
    "        Model_DTree.fit(Train_features,BlackBoxPred)\n",
    "        \n",
    "        R2_Scores.append(r2_score(BlackBoxPred,Model_DTree.predict(Train_features)))\n",
    "            \n",
    "    #second surrogate model is linear regression\n",
    "    Model_LinReg = linear_model.LinearRegression()\n",
    "    Model_LinReg.fit(Train_features,BlackBoxPred)\n",
    "    \n",
    "    R2_Scores.append(r2_score(BlackBoxPred,Model_DTree.predict(Train_features)))\n",
    "    \n",
    "    #third surrogat model is logistic regression\n",
    "    Model_LogReg = linear_model.LogisticRegression()\n",
    "    Model_LogReg.fit(Train_features,BlackBoxPred)\n",
    "    \n",
    "    R2_Scores.append(r2_score(BlackBoxPred,Model_DTree.predict(Train_features)))\n",
    "    \n",
    "    Max_R2Score = max(R2_Scores)\n",
    "    SurrogateModels = [Model_DTree,Model_LinReg,Model_LogReg] #list to store and return all the models\n",
    "    return R2_Scores.index(Max_R2Score)+1,SurrogateModels # index of final surrogate model and the list of models returned\n",
    "    "
   ]
  },
  {
   "cell_type": "markdown",
   "metadata": {},
   "source": [
    "the interpretation code"
   ]
  },
  {
   "cell_type": "code",
   "execution_count": 6,
   "metadata": {},
   "outputs": [],
   "source": [
    "def interpret(Train_features,BlackBoxModel,feature_names,class_names,mode):\n",
    "    \n",
    "    SurrogateModel_index,Models = find_surrogate_model(Train_features,BlackBoxModel,mode)\n",
    "    \n",
    "    global weights1 \n",
    "    weights1 = Models[1].coef_   # weights from Linear regression to display feature plot\n",
    "    \n",
    "    if(SurrogateModel_index == 0):\n",
    "            SurrogateModel = Models[0]\n",
    "            graph = Source(tree.export_graphviz(SurrogateModel, out_file=None\n",
    "           , feature_names=feature_names, class_names=class_names\n",
    "           , filled = True))\n",
    "            display(SVG(graph.pipe(format='svg')))\n",
    "            print(\"Starting from the root node you go to the next nodes and the edges tell you which subsets you are looking at. Once you reach the leaf node, the node tells you the predicted outcome. All the edges are connected by ‘AND’.\")\n",
    "    \n",
    "    \n",
    "    \n",
    "    elif(SurrogateModel_index == 1):\n",
    "            \n",
    "            SurrogateModel = Models[1]\n",
    "            \n",
    "            d = {'Feature Names': feature_names,'Weights': weights1}\n",
    "            d = pd.DataFrame(data = d)\n",
    "            table = ff.create_table(d)\n",
    "            plotly.offline.iplot(table, filename='pandas_table')\n",
    "            plotly.offline.iplot({\n",
    "            \"data\": [go.Box(x= feature_names, y= weights1)],\n",
    "            \"layout\": go.Layout(title=\"Weight Plot for Linear Regression\")\n",
    "            })\n",
    "    else:\n",
    "            SurrogateModel = Models[2]\n",
    "        \n",
    "            global weights2\n",
    "            weights2 = SurrogateModel.coef_[0]\n",
    "        \n",
    "            d = {'Feature Names': feature_names,'Weights': weights2,'Odds Ratio': np.exp(weights2)}\n",
    "            d = pd.DataFrame(data = d)\n",
    "            table = ff.create_table(d)\n",
    "            plotly.offline.iplot(table, filename='pandas_table')\n",
    "        \n",
    "            plotly.offline.iplot({\n",
    "            \"data\": [go.Box(x= feature_names, y= np.exp(weights2))],\n",
    "            \"layout\": go.Layout(title=\"Weight Plot for Logistic Regression\")\n",
    "            })\n",
    "        "
   ]
  },
  {
   "cell_type": "markdown",
   "metadata": {},
   "source": [
    "function to show effect plot for each feature."
   ]
  },
  {
   "cell_type": "code",
   "execution_count": 1,
   "metadata": {},
   "outputs": [],
   "source": [
    "def show_feature_plot(Train_features,feature_names):\n",
    "    effect_ij = []\n",
    "    data = []\n",
    "    #odds_ratio = np.exp(weights2)\n",
    "    for i in range(len(feature_names)):\n",
    "        for j in range (len(Train_features)):\n",
    "            effect_ij.append(Train_features[j][i]*(weights1[i]))\n",
    "        data.append(go.Box(x=effect_ij,name = feature_names[i]))\n",
    "        effect_ij = []\n",
    "    plotly.offline.iplot(data)\n",
    "    '''for i in range(len(feature_names)):\n",
    "        Sum = 0\n",
    "        for j in range (len(Train_features)):\n",
    "            Sum=Sum + Train_features[j][i]*(weights1[i])\n",
    "        effect_ij.append(Sum)\n",
    "    plotly.offline.iplot({\n",
    "        \"data\": [go.Bar(x= feature_names,y=effect_ij)],\n",
    "        \"layout\": go.Layout(title= \"Effect Plot\")\n",
    "    })'''\n",
    "                 "
   ]
  }
 ],
 "metadata": {
  "kernelspec": {
   "display_name": "Python 3",
   "language": "python",
   "name": "python3"
  },
  "language_info": {
   "codemirror_mode": {
    "name": "ipython",
    "version": 3
   },
   "file_extension": ".py",
   "mimetype": "text/x-python",
   "name": "python",
   "nbconvert_exporter": "python",
   "pygments_lexer": "ipython3",
   "version": "3.5.2"
  }
 },
 "nbformat": 4,
 "nbformat_minor": 2
}
